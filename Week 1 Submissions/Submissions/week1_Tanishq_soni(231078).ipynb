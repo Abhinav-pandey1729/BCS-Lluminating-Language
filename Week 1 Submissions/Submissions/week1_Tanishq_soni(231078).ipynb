{
 "cells": [
  {
   "cell_type": "code",
   "execution_count": 1,
   "id": "b677cdc5-be22-4c5a-a465-af369671521e",
   "metadata": {},
   "outputs": [],
   "source": [
    "import pandas as pd \n",
    "import numpy as np\n",
    "import seaborn as sns\n",
    "import nltk\n",
    "import string\n",
    "import re\n",
    "import matplotlib.pyplot as plt\n",
    "plt.style.use('ggplot')"
   ]
  },
  {
   "cell_type": "code",
   "execution_count": 2,
   "id": "b895a726-3d23-4cb9-992d-940a766929a5",
   "metadata": {},
   "outputs": [],
   "source": [
    "df=pd.read_csv('C:/Users/Dell/Downloads/movie.csv')"
   ]
  },
  {
   "cell_type": "code",
   "execution_count": 3,
   "id": "e55bfee5-07b8-421f-8207-dd410905e6aa",
   "metadata": {},
   "outputs": [
    {
     "data": {
      "text/html": [
       "<div>\n",
       "<style scoped>\n",
       "    .dataframe tbody tr th:only-of-type {\n",
       "        vertical-align: middle;\n",
       "    }\n",
       "\n",
       "    .dataframe tbody tr th {\n",
       "        vertical-align: top;\n",
       "    }\n",
       "\n",
       "    .dataframe thead th {\n",
       "        text-align: right;\n",
       "    }\n",
       "</style>\n",
       "<table border=\"1\" class=\"dataframe\">\n",
       "  <thead>\n",
       "    <tr style=\"text-align: right;\">\n",
       "      <th></th>\n",
       "      <th>text</th>\n",
       "      <th>label</th>\n",
       "    </tr>\n",
       "  </thead>\n",
       "  <tbody>\n",
       "    <tr>\n",
       "      <th>0</th>\n",
       "      <td>I grew up (b. 1965) watching and loving the Th...</td>\n",
       "      <td>0</td>\n",
       "    </tr>\n",
       "    <tr>\n",
       "      <th>1</th>\n",
       "      <td>When I put this movie in my DVD player, and sa...</td>\n",
       "      <td>0</td>\n",
       "    </tr>\n",
       "    <tr>\n",
       "      <th>2</th>\n",
       "      <td>Why do people who do not know what a particula...</td>\n",
       "      <td>0</td>\n",
       "    </tr>\n",
       "    <tr>\n",
       "      <th>3</th>\n",
       "      <td>Even though I have great interest in Biblical ...</td>\n",
       "      <td>0</td>\n",
       "    </tr>\n",
       "    <tr>\n",
       "      <th>4</th>\n",
       "      <td>Im a die hard Dads Army fan and nothing will e...</td>\n",
       "      <td>1</td>\n",
       "    </tr>\n",
       "  </tbody>\n",
       "</table>\n",
       "</div>"
      ],
      "text/plain": [
       "                                                text  label\n",
       "0  I grew up (b. 1965) watching and loving the Th...      0\n",
       "1  When I put this movie in my DVD player, and sa...      0\n",
       "2  Why do people who do not know what a particula...      0\n",
       "3  Even though I have great interest in Biblical ...      0\n",
       "4  Im a die hard Dads Army fan and nothing will e...      1"
      ]
     },
     "execution_count": 3,
     "metadata": {},
     "output_type": "execute_result"
    }
   ],
   "source": [
    "df.head()"
   ]
  },
  {
   "cell_type": "code",
   "execution_count": 4,
   "id": "93365754-2acc-478d-b18f-e17a01289d7a",
   "metadata": {},
   "outputs": [
    {
     "data": {
      "text/plain": [
       "(40000, 2)"
      ]
     },
     "execution_count": 4,
     "metadata": {},
     "output_type": "execute_result"
    }
   ],
   "source": [
    "df.shape"
   ]
  },
  {
   "cell_type": "code",
   "execution_count": 5,
   "id": "47e72daf-a6b5-4323-b328-890f2297600c",
   "metadata": {},
   "outputs": [
    {
     "data": {
      "text/html": [
       "<div>\n",
       "<style scoped>\n",
       "    .dataframe tbody tr th:only-of-type {\n",
       "        vertical-align: middle;\n",
       "    }\n",
       "\n",
       "    .dataframe tbody tr th {\n",
       "        vertical-align: top;\n",
       "    }\n",
       "\n",
       "    .dataframe thead th {\n",
       "        text-align: right;\n",
       "    }\n",
       "</style>\n",
       "<table border=\"1\" class=\"dataframe\">\n",
       "  <thead>\n",
       "    <tr style=\"text-align: right;\">\n",
       "      <th></th>\n",
       "      <th>text</th>\n",
       "      <th>label</th>\n",
       "    </tr>\n",
       "  </thead>\n",
       "  <tbody>\n",
       "    <tr>\n",
       "      <th>39995</th>\n",
       "      <td>\"Western Union\" is something of a forgotten cl...</td>\n",
       "      <td>1</td>\n",
       "    </tr>\n",
       "    <tr>\n",
       "      <th>39996</th>\n",
       "      <td>This movie is an incredible piece of work. It ...</td>\n",
       "      <td>1</td>\n",
       "    </tr>\n",
       "    <tr>\n",
       "      <th>39997</th>\n",
       "      <td>My wife and I watched this movie because we pl...</td>\n",
       "      <td>0</td>\n",
       "    </tr>\n",
       "    <tr>\n",
       "      <th>39998</th>\n",
       "      <td>When I first watched Flatliners, I was amazed....</td>\n",
       "      <td>1</td>\n",
       "    </tr>\n",
       "    <tr>\n",
       "      <th>39999</th>\n",
       "      <td>Why would this film be so good, but only gross...</td>\n",
       "      <td>1</td>\n",
       "    </tr>\n",
       "  </tbody>\n",
       "</table>\n",
       "</div>"
      ],
      "text/plain": [
       "                                                    text  label\n",
       "39995  \"Western Union\" is something of a forgotten cl...      1\n",
       "39996  This movie is an incredible piece of work. It ...      1\n",
       "39997  My wife and I watched this movie because we pl...      0\n",
       "39998  When I first watched Flatliners, I was amazed....      1\n",
       "39999  Why would this film be so good, but only gross...      1"
      ]
     },
     "execution_count": 5,
     "metadata": {},
     "output_type": "execute_result"
    }
   ],
   "source": [
    "df.tail()\n"
   ]
  },
  {
   "cell_type": "markdown",
   "id": "5ac7691d-b37b-4823-bbef-e44a442c8187",
   "metadata": {},
   "source": [
    "20019 negative reviews\n",
    "and 19981 positive reviews"
   ]
  },
  {
   "cell_type": "code",
   "execution_count": 6,
   "id": "a455316c-b8eb-4c0c-97cf-7d8cbe8a76a5",
   "metadata": {},
   "outputs": [
    {
     "data": {
      "text/html": [
       "<div>\n",
       "<style scoped>\n",
       "    .dataframe tbody tr th:only-of-type {\n",
       "        vertical-align: middle;\n",
       "    }\n",
       "\n",
       "    .dataframe tbody tr th {\n",
       "        vertical-align: top;\n",
       "    }\n",
       "\n",
       "    .dataframe thead th {\n",
       "        text-align: right;\n",
       "    }\n",
       "</style>\n",
       "<table border=\"1\" class=\"dataframe\">\n",
       "  <thead>\n",
       "    <tr style=\"text-align: right;\">\n",
       "      <th></th>\n",
       "      <th>label</th>\n",
       "    </tr>\n",
       "  </thead>\n",
       "  <tbody>\n",
       "    <tr>\n",
       "      <th>count</th>\n",
       "      <td>40000.000000</td>\n",
       "    </tr>\n",
       "    <tr>\n",
       "      <th>mean</th>\n",
       "      <td>0.499525</td>\n",
       "    </tr>\n",
       "    <tr>\n",
       "      <th>std</th>\n",
       "      <td>0.500006</td>\n",
       "    </tr>\n",
       "    <tr>\n",
       "      <th>min</th>\n",
       "      <td>0.000000</td>\n",
       "    </tr>\n",
       "    <tr>\n",
       "      <th>25%</th>\n",
       "      <td>0.000000</td>\n",
       "    </tr>\n",
       "    <tr>\n",
       "      <th>50%</th>\n",
       "      <td>0.000000</td>\n",
       "    </tr>\n",
       "    <tr>\n",
       "      <th>75%</th>\n",
       "      <td>1.000000</td>\n",
       "    </tr>\n",
       "    <tr>\n",
       "      <th>max</th>\n",
       "      <td>1.000000</td>\n",
       "    </tr>\n",
       "  </tbody>\n",
       "</table>\n",
       "</div>"
      ],
      "text/plain": [
       "              label\n",
       "count  40000.000000\n",
       "mean       0.499525\n",
       "std        0.500006\n",
       "min        0.000000\n",
       "25%        0.000000\n",
       "50%        0.000000\n",
       "75%        1.000000\n",
       "max        1.000000"
      ]
     },
     "execution_count": 6,
     "metadata": {},
     "output_type": "execute_result"
    }
   ],
   "source": [
    "df.describe()"
   ]
  },
  {
   "cell_type": "code",
   "execution_count": 7,
   "id": "da4308e4-f70b-406d-a84b-11648cd86417",
   "metadata": {},
   "outputs": [
    {
     "data": {
      "text/plain": [
       "Index(['text', 'label'], dtype='object')"
      ]
     },
     "execution_count": 7,
     "metadata": {},
     "output_type": "execute_result"
    }
   ],
   "source": [
    "df.columns"
   ]
  },
  {
   "cell_type": "code",
   "execution_count": 8,
   "id": "d24e3ceb-d6f9-4713-a807-91efe314111e",
   "metadata": {},
   "outputs": [
    {
     "data": {
      "text/plain": [
       "text     39723\n",
       "label        2\n",
       "dtype: int64"
      ]
     },
     "execution_count": 8,
     "metadata": {},
     "output_type": "execute_result"
    }
   ],
   "source": [
    "df.nunique()"
   ]
  },
  {
   "cell_type": "code",
   "execution_count": 9,
   "id": "7686abef-fea4-4eff-92eb-2d604b9de916",
   "metadata": {},
   "outputs": [
    {
     "data": {
      "text/plain": [
       "text     0\n",
       "label    0\n",
       "dtype: int64"
      ]
     },
     "execution_count": 9,
     "metadata": {},
     "output_type": "execute_result"
    }
   ],
   "source": [
    "df.isnull().sum()"
   ]
  },
  {
   "cell_type": "code",
   "execution_count": 10,
   "id": "7d3dad80-4728-4f49-9b1c-81e727f09d36",
   "metadata": {},
   "outputs": [
    {
     "data": {
      "image/png": "[encoded data removed]",
      "text/plain": [
       "<Figure size 1500x1000 with 1 Axes>"
      ]
     },
     "metadata": {},
     "output_type": "display_data"
    }
   ],
   "source": [
    "ax=df['label'].value_counts().plot(kind='bar',title='comparision between positive and negative reviews',figsize=(15,10))\n",
    "ax.set_xlabel('review status')\n",
    "plt.show()"
   ]
  },
  {
   "cell_type": "code",
   "execution_count": 11,
   "id": "5254bea2-e321-49c3-93b4-129de1510c1c",
   "metadata": {},
   "outputs": [
    {
     "data": {
      "text/html": [
       "<div>\n",
       "<style scoped>\n",
       "    .dataframe tbody tr th:only-of-type {\n",
       "        vertical-align: middle;\n",
       "    }\n",
       "\n",
       "    .dataframe tbody tr th {\n",
       "        vertical-align: top;\n",
       "    }\n",
       "\n",
       "    .dataframe thead th {\n",
       "        text-align: right;\n",
       "    }\n",
       "</style>\n",
       "<table border=\"1\" class=\"dataframe\">\n",
       "  <thead>\n",
       "    <tr style=\"text-align: right;\">\n",
       "      <th></th>\n",
       "      <th>text</th>\n",
       "      <th>label</th>\n",
       "    </tr>\n",
       "  </thead>\n",
       "  <tbody>\n",
       "    <tr>\n",
       "      <th>0</th>\n",
       "      <td>i grew up (b. 1965) watching and loving the th...</td>\n",
       "      <td>0</td>\n",
       "    </tr>\n",
       "    <tr>\n",
       "      <th>1</th>\n",
       "      <td>when i put this movie in my dvd player, and sa...</td>\n",
       "      <td>0</td>\n",
       "    </tr>\n",
       "    <tr>\n",
       "      <th>2</th>\n",
       "      <td>why do people who do not know what a particula...</td>\n",
       "      <td>0</td>\n",
       "    </tr>\n",
       "    <tr>\n",
       "      <th>3</th>\n",
       "      <td>even though i have great interest in biblical ...</td>\n",
       "      <td>0</td>\n",
       "    </tr>\n",
       "    <tr>\n",
       "      <th>4</th>\n",
       "      <td>im a die hard dads army fan and nothing will e...</td>\n",
       "      <td>1</td>\n",
       "    </tr>\n",
       "  </tbody>\n",
       "</table>\n",
       "</div>"
      ],
      "text/plain": [
       "                                                text  label\n",
       "0  i grew up (b. 1965) watching and loving the th...      0\n",
       "1  when i put this movie in my dvd player, and sa...      0\n",
       "2  why do people who do not know what a particula...      0\n",
       "3  even though i have great interest in biblical ...      0\n",
       "4  im a die hard dads army fan and nothing will e...      1"
      ]
     },
     "execution_count": 11,
     "metadata": {},
     "output_type": "execute_result"
    }
   ],
   "source": [
    "df['text']=df['text'].str.lower()\n",
    "df.head()"
   ]
  },
  {
   "cell_type": "code",
   "execution_count": 12,
   "id": "1979dd83-53c1-44d4-a9a2-1dc98784fb0e",
   "metadata": {},
   "outputs": [
    {
     "data": {
      "text/html": [
       "<div>\n",
       "<style scoped>\n",
       "    .dataframe tbody tr th:only-of-type {\n",
       "        vertical-align: middle;\n",
       "    }\n",
       "\n",
       "    .dataframe tbody tr th {\n",
       "        vertical-align: top;\n",
       "    }\n",
       "\n",
       "    .dataframe thead th {\n",
       "        text-align: right;\n",
       "    }\n",
       "</style>\n",
       "<table border=\"1\" class=\"dataframe\">\n",
       "  <thead>\n",
       "    <tr style=\"text-align: right;\">\n",
       "      <th></th>\n",
       "      <th>text</th>\n",
       "      <th>label</th>\n",
       "    </tr>\n",
       "  </thead>\n",
       "  <tbody>\n",
       "    <tr>\n",
       "      <th>0</th>\n",
       "      <td>i grew up b 1965 watching and loving the thund...</td>\n",
       "      <td>0</td>\n",
       "    </tr>\n",
       "    <tr>\n",
       "      <th>1</th>\n",
       "      <td>when i put this movie in my dvd player and sat...</td>\n",
       "      <td>0</td>\n",
       "    </tr>\n",
       "    <tr>\n",
       "      <th>2</th>\n",
       "      <td>why do people who do not know what a particula...</td>\n",
       "      <td>0</td>\n",
       "    </tr>\n",
       "    <tr>\n",
       "      <th>3</th>\n",
       "      <td>even though i have great interest in biblical ...</td>\n",
       "      <td>0</td>\n",
       "    </tr>\n",
       "    <tr>\n",
       "      <th>4</th>\n",
       "      <td>im a die hard dads army fan and nothing will e...</td>\n",
       "      <td>1</td>\n",
       "    </tr>\n",
       "  </tbody>\n",
       "</table>\n",
       "</div>"
      ],
      "text/plain": [
       "                                                text  label\n",
       "0  i grew up b 1965 watching and loving the thund...      0\n",
       "1  when i put this movie in my dvd player and sat...      0\n",
       "2  why do people who do not know what a particula...      0\n",
       "3  even though i have great interest in biblical ...      0\n",
       "4  im a die hard dads army fan and nothing will e...      1"
      ]
     },
     "execution_count": 12,
     "metadata": {},
     "output_type": "execute_result"
    }
   ],
   "source": [
    "def removal_punc(text):\n",
    "    return text.translate(str.maketrans('', '', string.punctuation))\n",
    "df['text']=df['text'].apply(removal_punc)\n",
    "df.head()"
   ]
  },
  {
   "cell_type": "code",
   "execution_count": 13,
   "id": "77943c59-0db1-4d92-a225-df47c721a482",
   "metadata": {},
   "outputs": [],
   "source": [
    "from nltk.corpus import stopwords\n",
    "stop_words=set(stopwords.words('english'))"
   ]
  },
  {
   "cell_type": "code",
   "execution_count": 14,
   "id": "70a7e4a3-b543-4372-975f-91ea74b66a0d",
   "metadata": {},
   "outputs": [
    {
     "data": {
      "text/html": [
       "<div>\n",
       "<style scoped>\n",
       "    .dataframe tbody tr th:only-of-type {\n",
       "        vertical-align: middle;\n",
       "    }\n",
       "\n",
       "    .dataframe tbody tr th {\n",
       "        vertical-align: top;\n",
       "    }\n",
       "\n",
       "    .dataframe thead th {\n",
       "        text-align: right;\n",
       "    }\n",
       "</style>\n",
       "<table border=\"1\" class=\"dataframe\">\n",
       "  <thead>\n",
       "    <tr style=\"text-align: right;\">\n",
       "      <th></th>\n",
       "      <th>text</th>\n",
       "      <th>label</th>\n",
       "    </tr>\n",
       "  </thead>\n",
       "  <tbody>\n",
       "    <tr>\n",
       "      <th>0</th>\n",
       "      <td>grew b 1965 watching loving thunderbirds mates...</td>\n",
       "      <td>0</td>\n",
       "    </tr>\n",
       "    <tr>\n",
       "      <th>1</th>\n",
       "      <td>put movie dvd player sat coke chips expectatio...</td>\n",
       "      <td>0</td>\n",
       "    </tr>\n",
       "    <tr>\n",
       "      <th>2</th>\n",
       "      <td>people know particular time past like feel nee...</td>\n",
       "      <td>0</td>\n",
       "    </tr>\n",
       "    <tr>\n",
       "      <th>3</th>\n",
       "      <td>even though great interest biblical movies bor...</td>\n",
       "      <td>0</td>\n",
       "    </tr>\n",
       "    <tr>\n",
       "      <th>4</th>\n",
       "      <td>im die hard dads army fan nothing ever change ...</td>\n",
       "      <td>1</td>\n",
       "    </tr>\n",
       "  </tbody>\n",
       "</table>\n",
       "</div>"
      ],
      "text/plain": [
       "                                                text  label\n",
       "0  grew b 1965 watching loving thunderbirds mates...      0\n",
       "1  put movie dvd player sat coke chips expectatio...      0\n",
       "2  people know particular time past like feel nee...      0\n",
       "3  even though great interest biblical movies bor...      0\n",
       "4  im die hard dads army fan nothing ever change ...      1"
      ]
     },
     "execution_count": 14,
     "metadata": {},
     "output_type": "execute_result"
    }
   ],
   "source": [
    "from nltk.tokenize import word_tokenize,sent_tokenize\n",
    "def remove_stopwords(text):\n",
    "    stop_words = set(stopwords.words('english'))\n",
    "    word_tokens = word_tokenize(text)\n",
    "    new_text = [word for word in word_tokens if word.lower() not in stop_words]\n",
    "    return ' '.join(new_text)\n",
    "df['text'] = df['text'].apply(remove_stopwords)\n",
    "df.head()"
   ]
  },
  {
   "cell_type": "code",
   "execution_count": 15,
   "id": "3d7631ba-b575-445f-80e7-5d8842f7b5cf",
   "metadata": {},
   "outputs": [
    {
     "name": "stderr",
     "output_type": "stream",
     "text": [
      "[nltk_data] Downloading package wordnet to\n",
      "[nltk_data]     C:\\Users\\Dell\\AppData\\Roaming\\nltk_data...\n",
      "[nltk_data]   Package wordnet is already up-to-date!\n"
     ]
    },
    {
     "data": {
      "text/html": [
       "<div>\n",
       "<style scoped>\n",
       "    .dataframe tbody tr th:only-of-type {\n",
       "        vertical-align: middle;\n",
       "    }\n",
       "\n",
       "    .dataframe tbody tr th {\n",
       "        vertical-align: top;\n",
       "    }\n",
       "\n",
       "    .dataframe thead th {\n",
       "        text-align: right;\n",
       "    }\n",
       "</style>\n",
       "<table border=\"1\" class=\"dataframe\">\n",
       "  <thead>\n",
       "    <tr style=\"text-align: right;\">\n",
       "      <th></th>\n",
       "      <th>text</th>\n",
       "      <th>label</th>\n",
       "    </tr>\n",
       "  </thead>\n",
       "  <tbody>\n",
       "    <tr>\n",
       "      <th>0</th>\n",
       "      <td>grew b 1965 watching loving thunderbird mate s...</td>\n",
       "      <td>0</td>\n",
       "    </tr>\n",
       "    <tr>\n",
       "      <th>1</th>\n",
       "      <td>put movie dvd player sat coke chip expectation...</td>\n",
       "      <td>0</td>\n",
       "    </tr>\n",
       "    <tr>\n",
       "      <th>2</th>\n",
       "      <td>people know particular time past like feel nee...</td>\n",
       "      <td>0</td>\n",
       "    </tr>\n",
       "    <tr>\n",
       "      <th>3</th>\n",
       "      <td>even though great interest biblical movie bore...</td>\n",
       "      <td>0</td>\n",
       "    </tr>\n",
       "    <tr>\n",
       "      <th>4</th>\n",
       "      <td>im die hard dad army fan nothing ever change g...</td>\n",
       "      <td>1</td>\n",
       "    </tr>\n",
       "  </tbody>\n",
       "</table>\n",
       "</div>"
      ],
      "text/plain": [
       "                                                text  label\n",
       "0  grew b 1965 watching loving thunderbird mate s...      0\n",
       "1  put movie dvd player sat coke chip expectation...      0\n",
       "2  people know particular time past like feel nee...      0\n",
       "3  even though great interest biblical movie bore...      0\n",
       "4  im die hard dad army fan nothing ever change g...      1"
      ]
     },
     "execution_count": 15,
     "metadata": {},
     "output_type": "execute_result"
    }
   ],
   "source": [
    "nltk.download('wordnet')\n",
    "from nltk.stem import WordNetLemmatizer\n",
    "\n",
    "lemmatizer = WordNetLemmatizer()\n",
    "def lemmatize_text(text):\n",
    "    tokens = word_tokenize(text)\n",
    "    lemmatized_tokens = [lemmatizer.lemmatize(token) for token in tokens]\n",
    "    return ' '.join(lemmatized_tokens)\n",
    "df['text'] = df['text'].apply(lemmatize_text)\n",
    "df.head()"
   ]
  },
  {
   "cell_type": "code",
   "execution_count": 16,
   "id": "bbbe0e36-d374-4146-b5b0-9a9eebb08a4b",
   "metadata": {},
   "outputs": [
    {
     "name": "stdout",
     "output_type": "stream",
     "text": [
      "Tfidf_train: (40000, 148884)\n"
     ]
    }
   ],
   "source": [
    "from sklearn.feature_extraction.text import TfidfVectorizer\n",
    "tfidf=TfidfVectorizer()\n",
    "tfidf_df=tfidf.fit_transform(df['text'])\n",
    "\n",
    "print('Tfidf_train:',tfidf_df.shape)\n"
   ]
  },
  {
   "cell_type": "code",
   "execution_count": 17,
   "id": "fb1ffeeb-d6e1-4524-b0c7-bcf8fcd87c67",
   "metadata": {},
   "outputs": [
    {
     "name": "stdout",
     "output_type": "stream",
     "text": [
      "  (0, 70484)\t0.11658989984724787\n",
      "  (0, 43863)\t0.10355269397583318\n",
      "  (0, 63730)\t0.07299605961952792\n",
      "  (0, 127113)\t0.18385048747813934\n",
      "  (0, 113859)\t0.32545384012715184\n",
      "  (0, 62495)\t0.14502525663814558\n",
      "  (0, 80898)\t0.158489360843239\n",
      "  (0, 109427)\t0.1289138206107335\n",
      "  (0, 3859)\t0.10662692413183056\n",
      "  (0, 81898)\t0.05477646439512654\n",
      "  (0, 109012)\t0.08325180598899778\n",
      "  (0, 23623)\t0.09401405851421224\n",
      "  (0, 112465)\t0.09551099890519461\n",
      "  (0, 139837)\t0.09555578401389322\n",
      "  (0, 48425)\t0.026203223152483177\n",
      "  (0, 142846)\t0.0666972663565852\n",
      "  (0, 62761)\t0.11295271173218369\n",
      "  (0, 28262)\t0.06274465752791343\n",
      "  (0, 140735)\t0.06487946813768206\n",
      "  (0, 23717)\t0.10277812180901874\n",
      "  (0, 36850)\t0.04970055389264208\n",
      "  (0, 58666)\t0.06498157146402027\n",
      "  (0, 51107)\t0.15671281570956197\n",
      "  (0, 70179)\t0.18385048747813934\n",
      "  (0, 31111)\t0.08312259782025325\n",
      "  :\t:\n",
      "  (39999, 136254)\t0.08170353833433472\n",
      "  (39999, 59803)\t0.1656318634810211\n",
      "  (39999, 15243)\t0.06288459899966183\n",
      "  (39999, 21471)\t0.09023057434910699\n",
      "  (39999, 70039)\t0.09004393679472132\n",
      "  (39999, 114300)\t0.061789643593238755\n",
      "  (39999, 131368)\t0.07361079446048488\n",
      "  (39999, 132005)\t0.05896554255735682\n",
      "  (39999, 11712)\t0.11755076830344607\n",
      "  (39999, 62889)\t0.09911414764919263\n",
      "  (39999, 33781)\t0.08921709795055527\n",
      "  (39999, 56496)\t0.11325607291155816\n",
      "  (39999, 44416)\t0.04969768258387111\n",
      "  (39999, 143128)\t0.05685310772609911\n",
      "  (39999, 77086)\t0.06308098915353229\n",
      "  (39999, 79837)\t0.049685240488879755\n",
      "  (39999, 72854)\t0.12052624051901686\n",
      "  (39999, 38623)\t0.05631555033536542\n",
      "  (39999, 114626)\t0.055766946489001275\n",
      "  (39999, 107370)\t0.0881096269823227\n",
      "  (39999, 123060)\t0.10699722868096782\n",
      "  (39999, 55496)\t0.047078215510541664\n",
      "  (39999, 45390)\t0.12069206404432016\n",
      "  (39999, 48425)\t0.03676598367367672\n",
      "  (39999, 146491)\t0.05072229373236435\n"
     ]
    }
   ],
   "source": [
    "print(tfidf_df)"
   ]
  },
  {
   "cell_type": "code",
   "execution_count": 18,
   "id": "620167ba-7dc0-4c70-9122-f98f9956d8b2",
   "metadata": {},
   "outputs": [
    {
     "name": "stdout",
     "output_type": "stream",
     "text": [
      "               TF-IDF\n",
      "thunderbird  0.421804\n",
      "sapiens      0.325454\n",
      "school       0.202276\n",
      "jonatha      0.183850\n",
      "subsp        0.183850\n",
      "...               ...\n",
      "fleabag      0.000000\n",
      "fleabitten   0.000000\n",
      "fleadh       0.000000\n",
      "fleapit      0.000000\n",
      "כרמון        0.000000\n",
      "\n",
      "[148884 rows x 1 columns]\n"
     ]
    }
   ],
   "source": [
    "dataframe = pd.DataFrame(tfidf_df[0].T.todense(),\n",
    "    \tindex=tfidf.get_feature_names_out(), columns=[\"TF-IDF\"])\n",
    "dataframe = dataframe.sort_values('TF-IDF', ascending=False)\n",
    "print(dataframe)"
   ]
  },
  {
   "cell_type": "code",
   "execution_count": 19,
   "id": "79904a71-67f5-42cd-8a55-221b7c93b957",
   "metadata": {},
   "outputs": [
    {
     "data": {
      "text/html": [
       "<div>\n",
       "<style scoped>\n",
       "    .dataframe tbody tr th:only-of-type {\n",
       "        vertical-align: middle;\n",
       "    }\n",
       "\n",
       "    .dataframe tbody tr th {\n",
       "        vertical-align: top;\n",
       "    }\n",
       "\n",
       "    .dataframe thead th {\n",
       "        text-align: right;\n",
       "    }\n",
       "</style>\n",
       "<table border=\"1\" class=\"dataframe\">\n",
       "  <thead>\n",
       "    <tr style=\"text-align: right;\">\n",
       "      <th></th>\n",
       "      <th>text</th>\n",
       "      <th>label</th>\n",
       "    </tr>\n",
       "  </thead>\n",
       "  <tbody>\n",
       "    <tr>\n",
       "      <th>0</th>\n",
       "      <td>grew b 1965 watching loving thunderbird mate s...</td>\n",
       "      <td>0</td>\n",
       "    </tr>\n",
       "    <tr>\n",
       "      <th>1</th>\n",
       "      <td>put movie dvd player sat coke chip expectation...</td>\n",
       "      <td>0</td>\n",
       "    </tr>\n",
       "    <tr>\n",
       "      <th>2</th>\n",
       "      <td>people know particular time past like feel nee...</td>\n",
       "      <td>0</td>\n",
       "    </tr>\n",
       "    <tr>\n",
       "      <th>3</th>\n",
       "      <td>even though great interest biblical movie bore...</td>\n",
       "      <td>0</td>\n",
       "    </tr>\n",
       "    <tr>\n",
       "      <th>4</th>\n",
       "      <td>im die hard dad army fan nothing ever change g...</td>\n",
       "      <td>1</td>\n",
       "    </tr>\n",
       "  </tbody>\n",
       "</table>\n",
       "</div>"
      ],
      "text/plain": [
       "                                                text  label\n",
       "0  grew b 1965 watching loving thunderbird mate s...      0\n",
       "1  put movie dvd player sat coke chip expectation...      0\n",
       "2  people know particular time past like feel nee...      0\n",
       "3  even though great interest biblical movie bore...      0\n",
       "4  im die hard dad army fan nothing ever change g...      1"
      ]
     },
     "execution_count": 19,
     "metadata": {},
     "output_type": "execute_result"
    }
   ],
   "source": [
    "df.head()"
   ]
  },
  {
   "cell_type": "code",
   "execution_count": 45,
   "id": "fa247e0d-005b-40ac-bb54-1152df544bbe",
   "metadata": {},
   "outputs": [
    {
     "name": "stdout",
     "output_type": "stream",
     "text": [
      "BOW_cv_text: (40000, 148884)\n"
     ]
    }
   ],
   "source": [
    "from sklearn.feature_extraction.text import CountVectorizer\n",
    "cv=CountVectorizer()\n",
    "cv_text=cv.fit_transform(df['text'])\n",
    "print('BOW_cv_text:',cv_text.shape)"
   ]
  },
  {
   "cell_type": "code",
   "execution_count": 21,
   "id": "97cab53f-69e0-4d46-9067-3afe7153b01c",
   "metadata": {},
   "outputs": [
    {
     "name": "stdout",
     "output_type": "stream",
     "text": [
      "(10000,)\n",
      "(30000, 148884)\n",
      "(30000, 148884)\n"
     ]
    }
   ],
   "source": [
    "trani_senti=df['label'][:30000]\n",
    "test_senti=df['label'][30000:]\n",
    "print(test_senti.shape)\n",
    "\n",
    "cv_train_reviews = cv_text[:30000]\n",
    "cv_test_reviews = cv_text[30000:]\n",
    "print(cv_train_reviews.shape)\n",
    "\n",
    "tf_train_reviews =  tfidf_df[:30000]\n",
    "tf_test_reviews =  tfidf_df[30000:]\n",
    "print(tf_train_reviews.shape)"
   ]
  },
  {
   "cell_type": "code",
   "execution_count": 22,
   "id": "d6c7e7c5-6261-474d-a0c5-b969f0b0a000",
   "metadata": {},
   "outputs": [],
   "source": [
    "from sklearn.linear_model import LogisticRegression \n",
    "model = LogisticRegression(max_iter = 1000)"
   ]
  },
  {
   "cell_type": "code",
   "execution_count": 23,
   "id": "cdb4ad45-f7ca-4832-bc77-6b7c3a3aaae9",
   "metadata": {},
   "outputs": [],
   "source": [
    "log_reg_cv = model.fit(cv_train_reviews,trani_senti)\n",
    "log_reg_tf = model.fit(tf_train_reviews,trani_senti)\n"
   ]
  },
  {
   "cell_type": "code",
   "execution_count": 24,
   "id": "cb981cea-7adb-4c67-b588-49317f6f4746",
   "metadata": {},
   "outputs": [
    {
     "name": "stdout",
     "output_type": "stream",
     "text": [
      "[0 1 0 ... 0 1 1]\n",
      "[0 1 0 ... 0 1 1]\n",
      "lr_bow_score : 0.8714\n",
      "lr_tfidf_score : 0.8931\n"
     ]
    }
   ],
   "source": [
    "from sklearn.metrics import accuracy_score\n",
    "logreg_bow_predict=model.predict(cv_test_reviews)\n",
    "print(logreg_bow_predict)\n",
    "logreg_tfidf_predict=model.predict(tf_test_reviews)\n",
    "print(logreg_tfidf_predict)\n",
    "logreg_bow_score=accuracy_score(test_senti,logreg_bow_predict)\n",
    "print(\"lr_bow_score :\",logreg_bow_score)\n",
    "\n",
    "logreg_tfidf_score=accuracy_score(test_senti,logreg_tfidf_predict)\n",
    "print(\"lr_tfidf_score :\",logreg_tfidf_score)"
   ]
  },
  {
   "cell_type": "code",
   "execution_count": 25,
   "id": "73c48710-18c1-49ef-837e-ed39b5069da9",
   "metadata": {},
   "outputs": [
    {
     "name": "stdout",
     "output_type": "stream",
     "text": [
      "              precision    recall  f1-score   support\n",
      "\n",
      "    Positive       0.89      0.84      0.87      4972\n",
      "    Negative       0.85      0.90      0.88      5028\n",
      "\n",
      "    accuracy                           0.87     10000\n",
      "   macro avg       0.87      0.87      0.87     10000\n",
      "weighted avg       0.87      0.87      0.87     10000\n",
      "\n",
      "              precision    recall  f1-score   support\n",
      "\n",
      "    Positive       0.90      0.88      0.89      4972\n",
      "    Negative       0.89      0.90      0.89      5028\n",
      "\n",
      "    accuracy                           0.89     10000\n",
      "   macro avg       0.89      0.89      0.89     10000\n",
      "weighted avg       0.89      0.89      0.89     10000\n",
      "\n"
     ]
    }
   ],
   "source": [
    "from sklearn.metrics import classification_report,confusion_matrix,roc_auc_score\n",
    "lr_bow_report=classification_report(test_senti,logreg_bow_predict,target_names=['Positive','Negative'])\n",
    "print(lr_bow_report)\n",
    "\n",
    "lr_tfidf_report=classification_report(test_senti,logreg_tfidf_predict,target_names=['Positive','Negative'])\n",
    "print(lr_tfidf_report)"
   ]
  },
  {
   "cell_type": "code",
   "execution_count": 26,
   "id": "ec34d4da-94b5-4f16-8c5b-96caef115e42",
   "metadata": {},
   "outputs": [
    {
     "name": "stdout",
     "output_type": "stream",
     "text": [
      "[[4514  514]\n",
      " [ 772 4200]]\n",
      "[[4536  492]\n",
      " [ 577 4395]]\n"
     ]
    }
   ],
   "source": [
    "cm_logreg_bow=confusion_matrix(test_senti,logreg_bow_predict,labels=[1,0])\n",
    "print(cm_logreg_bow)\n",
    "cm_logreg_tfidf=confusion_matrix(test_senti,logreg_tfidf_predict,labels=[1,0])\n",
    "print(cm_logreg_tfidf)"
   ]
  },
  {
   "cell_type": "code",
   "execution_count": 27,
   "id": "e75637d9-cfb8-48d0-b0c0-99420e5d4701",
   "metadata": {},
   "outputs": [
    {
     "name": "stdout",
     "output_type": "stream",
     "text": [
      "0.9399589971141493\n",
      "0.958491818303422\n"
     ]
    }
   ],
   "source": [
    "cv_prediction = model.predict_proba(cv_test_reviews)[:, 1]\n",
    "cv_auc_roc_score = roc_auc_score(test_senti,cv_prediction)\n",
    "print(cv_auc_roc_score)\n",
    "tf_prediction = model.predict_proba(tf_test_reviews)[:, 1]\n",
    "tf_auc_roc_score = roc_auc_score(test_senti,tf_prediction)\n",
    "print(tf_auc_roc_score)"
   ]
  },
  {
   "cell_type": "code",
   "execution_count": 28,
   "id": "2859e2ce-adb3-4a76-95b3-676fde9d960e",
   "metadata": {},
   "outputs": [],
   "source": [
    "from sklearn.naive_bayes import BernoulliNB\n",
    "bnb = BernoulliNB()"
   ]
  },
  {
   "cell_type": "code",
   "execution_count": 29,
   "id": "2cbb4b15-3222-48c0-b800-c57b541c4e58",
   "metadata": {},
   "outputs": [
    {
     "name": "stdout",
     "output_type": "stream",
     "text": [
      "[0 1 0 ... 0 1 1]\n",
      "[0 1 0 ... 0 1 1]\n"
     ]
    }
   ],
   "source": [
    "bnb_bow=bnb.fit(cv_train_reviews,trani_senti)\n",
    "bnb_tfidf=bnb.fit(tf_train_reviews,trani_senti)\n",
    "bnb_bow_predict=bnb.predict(cv_test_reviews)\n",
    "print(bnb_bow_predict)\n",
    "\n",
    "bnb_tfidf_predict=bnb.predict(tf_test_reviews)\n",
    "print(bnb_tfidf_predict)"
   ]
  },
  {
   "cell_type": "code",
   "execution_count": 30,
   "id": "4d9bc8f9-6839-4827-872f-b76827966dc5",
   "metadata": {},
   "outputs": [
    {
     "name": "stdout",
     "output_type": "stream",
     "text": [
      "bnb_bow_score : 0.8537\n",
      "bnb_tfidf_score : 0.8537\n"
     ]
    }
   ],
   "source": [
    "bnb_bow_score=accuracy_score(test_senti,bnb_bow_predict)\n",
    "print(\"bnb_bow_score :\",bnb_bow_score)\n",
    "bnb_tfidf_score=accuracy_score(test_senti,bnb_tfidf_predict)\n",
    "print(\"bnb_tfidf_score :\",bnb_tfidf_score)"
   ]
  },
  {
   "cell_type": "code",
   "execution_count": 31,
   "id": "86587e44-11fa-41fe-99a8-58678d0d560e",
   "metadata": {},
   "outputs": [
    {
     "name": "stdout",
     "output_type": "stream",
     "text": [
      "[[4107  921]\n",
      " [ 542 4430]]\n",
      "[[4107  921]\n",
      " [ 542 4430]]\n"
     ]
    }
   ],
   "source": [
    "cm_bnb_bow=confusion_matrix(test_senti,bnb_bow_predict,labels=[1,0])\n",
    "print(cm_bnb_bow)\n",
    "\n",
    "cm_bnb_tfidf=confusion_matrix(test_senti,bnb_tfidf_predict,labels=[1,0])\n",
    "print(cm_bnb_tfidf)"
   ]
  },
  {
   "cell_type": "code",
   "execution_count": 32,
   "id": "6ad29701-7055-40e3-ae63-7a3fe1585521",
   "metadata": {},
   "outputs": [
    {
     "name": "stdout",
     "output_type": "stream",
     "text": [
      "              precision    recall  f1-score   support\n",
      "\n",
      "    Positive       0.83      0.89      0.86      4972\n",
      "    Negative       0.88      0.82      0.85      5028\n",
      "\n",
      "    accuracy                           0.85     10000\n",
      "   macro avg       0.86      0.85      0.85     10000\n",
      "weighted avg       0.86      0.85      0.85     10000\n",
      "\n",
      "              precision    recall  f1-score   support\n",
      "\n",
      "    Positive       0.83      0.89      0.86      4972\n",
      "    Negative       0.88      0.82      0.85      5028\n",
      "\n",
      "    accuracy                           0.85     10000\n",
      "   macro avg       0.86      0.85      0.85     10000\n",
      "weighted avg       0.86      0.85      0.85     10000\n",
      "\n"
     ]
    }
   ],
   "source": [
    "bnb_bow_report=classification_report(test_senti,bnb_bow_predict,target_names=['Positive','Negative'])\n",
    "print(bnb_bow_report)\n",
    "bnb_tfidf_report=classification_report(test_senti,bnb_tfidf_predict,target_names=['Positive','Negative'])\n",
    "print(bnb_tfidf_report)"
   ]
  },
  {
   "cell_type": "code",
   "execution_count": 33,
   "id": "c2d15cd2-a2f4-4bc3-9514-855821e13b84",
   "metadata": {},
   "outputs": [
    {
     "name": "stdout",
     "output_type": "stream",
     "text": [
      "0.9277061328643267\n",
      "0.9277061328643267\n"
     ]
    }
   ],
   "source": [
    "cv_bnb_prediction = bnb.predict_proba(cv_test_reviews)[:, 1]\n",
    "cv_bnb_auc_roc_score = roc_auc_score(test_senti,cv_bnb_prediction)\n",
    "print(cv_bnb_auc_roc_score)\n",
    "tf_bnb_prediction = bnb.predict_proba(tf_test_reviews)[:, 1]\n",
    "tf_bnb_auc_roc_score = roc_auc_score(test_senti,tf_bnb_prediction)\n",
    "print(tf_bnb_auc_roc_score)"
   ]
  },
  {
   "cell_type": "code",
   "execution_count": 34,
   "id": "a467d8d6-4405-44f8-99a8-d13ed6ac4b70",
   "metadata": {},
   "outputs": [],
   "source": [
    "from sklearn.linear_model import SGDClassifier\n",
    "svm=SGDClassifier(max_iter=1000,random_state=48)\n",
    "\n",
    "svm_bow=svm.fit(cv_train_reviews,trani_senti)\n",
    "\n",
    "\n",
    "svm_tfidf=svm.fit(tf_train_reviews,trani_senti)\n"
   ]
  },
  {
   "cell_type": "code",
   "execution_count": 35,
   "id": "6dc2ec03-4ca5-4fec-abd5-e745fab43a76",
   "metadata": {},
   "outputs": [
    {
     "name": "stdout",
     "output_type": "stream",
     "text": [
      "[0 1 0 ... 0 1 1]\n",
      "[0 1 0 ... 0 1 1]\n"
     ]
    }
   ],
   "source": [
    "svm_bow_predict=svm.predict(cv_test_reviews)\n",
    "print(svm_bow_predict)\n",
    "\n",
    "svm_tfidf_predict=svm.predict(tf_test_reviews)\n",
    "print(svm_tfidf_predict)"
   ]
  },
  {
   "cell_type": "code",
   "execution_count": 36,
   "id": "6403bcd2-388c-4fda-b2b1-bc596dec872f",
   "metadata": {},
   "outputs": [
    {
     "name": "stdout",
     "output_type": "stream",
     "text": [
      "svm_bow_score : 0.8757\n",
      "svm_tfidf_score : 0.8921\n"
     ]
    }
   ],
   "source": [
    "svm_bow_score=accuracy_score(test_senti,svm_bow_predict)\n",
    "print(\"svm_bow_score :\",svm_bow_score)\n",
    "svm_tfidf_score=accuracy_score(test_senti,svm_tfidf_predict)\n",
    "print(\"svm_tfidf_score :\",svm_tfidf_score)"
   ]
  },
  {
   "cell_type": "code",
   "execution_count": 37,
   "id": "188bae67-3298-4cad-a47b-ac23debe31d5",
   "metadata": {},
   "outputs": [
    {
     "name": "stdout",
     "output_type": "stream",
     "text": [
      "[[4508  520]\n",
      " [ 723 4249]]\n",
      "[[4555  473]\n",
      " [ 606 4366]]\n"
     ]
    }
   ],
   "source": [
    "\n",
    "cm_svm_bow=confusion_matrix(test_senti,svm_bow_predict,labels=[1,0])\n",
    "print(cm_svm_bow)\n",
    "\n",
    "cm_svm_tfidf=confusion_matrix(test_senti,svm_tfidf_predict,labels=[1,0])\n",
    "print(cm_svm_tfidf)"
   ]
  },
  {
   "cell_type": "code",
   "execution_count": 38,
   "id": "333b263c-bebb-4a5f-a1f2-7e0215b6bff9",
   "metadata": {},
   "outputs": [
    {
     "name": "stdout",
     "output_type": "stream",
     "text": [
      "              precision    recall  f1-score   support\n",
      "\n",
      "    Positive       0.89      0.85      0.87      4972\n",
      "    Negative       0.86      0.90      0.88      5028\n",
      "\n",
      "    accuracy                           0.88     10000\n",
      "   macro avg       0.88      0.88      0.88     10000\n",
      "weighted avg       0.88      0.88      0.88     10000\n",
      "\n",
      "              precision    recall  f1-score   support\n",
      "\n",
      "    Positive       0.90      0.88      0.89      4972\n",
      "    Negative       0.88      0.91      0.89      5028\n",
      "\n",
      "    accuracy                           0.89     10000\n",
      "   macro avg       0.89      0.89      0.89     10000\n",
      "weighted avg       0.89      0.89      0.89     10000\n",
      "\n"
     ]
    }
   ],
   "source": [
    "svm_bow_report=classification_report(test_senti,svm_bow_predict,target_names=['Positive','Negative'])\n",
    "print(svm_bow_report)\n",
    "svm_tfidf_report=classification_report(test_senti,svm_tfidf_predict,target_names=['Positive','Negative'])\n",
    "print(svm_tfidf_report)"
   ]
  },
  {
   "cell_type": "code",
   "execution_count": 39,
   "id": "70fbd86f-899f-4262-b05a-c4724e48cf69",
   "metadata": {},
   "outputs": [],
   "source": [
    "from sklearn.ensemble import RandomForestClassifier\n",
    "max_depth = 10\n",
    "rf_classifier= RandomForestClassifier(max_depth= max_depth,random_state = 42)\n",
    "rf_bow=rf_classifier.fit(cv_train_reviews,trani_senti)\n",
    "\n",
    "\n",
    "rf_tfidf=rf_classifier.fit(tf_train_reviews,trani_senti)"
   ]
  },
  {
   "cell_type": "code",
   "execution_count": 40,
   "id": "376745ff-b472-41ff-bf65-f4731d36c3e7",
   "metadata": {},
   "outputs": [
    {
     "name": "stdout",
     "output_type": "stream",
     "text": [
      "[0 1 0 ... 0 1 0]\n",
      "[0 1 0 ... 0 1 0]\n"
     ]
    }
   ],
   "source": [
    "rf_bow_predict=rf_classifier.predict(cv_test_reviews)\n",
    "print(rf_bow_predict)\n",
    "\n",
    "rf_tfidf_predict=rf_classifier.predict(tf_test_reviews)\n",
    "print(rf_tfidf_predict)"
   ]
  },
  {
   "cell_type": "code",
   "execution_count": 41,
   "id": "634a10f8-a70f-41c5-b7b6-3127b012b659",
   "metadata": {},
   "outputs": [
    {
     "name": "stdout",
     "output_type": "stream",
     "text": [
      "rf_bow_score : 0.8116\n",
      "rf_tfidf_score : 0.8207\n"
     ]
    }
   ],
   "source": [
    "rf_bow_score=accuracy_score(test_senti,rf_bow_predict)\n",
    "print(\"rf_bow_score :\",rf_bow_score)\n",
    "rf_tfidf_score=accuracy_score(test_senti,rf_tfidf_predict)\n",
    "print(\"rf_tfidf_score :\",rf_tfidf_score)"
   ]
  },
  {
   "cell_type": "code",
   "execution_count": 42,
   "id": "437053b6-ee21-47b7-b924-d0ceee7972a7",
   "metadata": {},
   "outputs": [
    {
     "name": "stdout",
     "output_type": "stream",
     "text": [
      "[[4029  999]\n",
      " [ 885 4087]]\n",
      "[[4245  783]\n",
      " [1010 3962]]\n"
     ]
    }
   ],
   "source": [
    "cm_rf_bow=confusion_matrix(test_senti,rf_bow_predict,labels=[1,0])\n",
    "print(cm_rf_bow)\n",
    "\n",
    "cm_rf_tfidf=confusion_matrix(test_senti,rf_tfidf_predict,labels=[1,0])\n",
    "print(cm_rf_tfidf)"
   ]
  },
  {
   "cell_type": "code",
   "execution_count": 43,
   "id": "83560eaf-d9db-4cd0-9bea-127b1215616f",
   "metadata": {
    "scrolled": true
   },
   "outputs": [
    {
     "name": "stdout",
     "output_type": "stream",
     "text": [
      "              precision    recall  f1-score   support\n",
      "\n",
      "    Positive       0.80      0.82      0.81      4972\n",
      "    Negative       0.82      0.80      0.81      5028\n",
      "\n",
      "    accuracy                           0.81     10000\n",
      "   macro avg       0.81      0.81      0.81     10000\n",
      "weighted avg       0.81      0.81      0.81     10000\n",
      "\n",
      "              precision    recall  f1-score   support\n",
      "\n",
      "    Positive       0.83      0.80      0.82      4972\n",
      "    Negative       0.81      0.84      0.83      5028\n",
      "\n",
      "    accuracy                           0.82     10000\n",
      "   macro avg       0.82      0.82      0.82     10000\n",
      "weighted avg       0.82      0.82      0.82     10000\n",
      "\n"
     ]
    }
   ],
   "source": [
    "rf_bow_report=classification_report(test_senti,rf_bow_predict,target_names=['Positive','Negative'])\n",
    "print(rf_bow_report)\n",
    "rf_tfidf_report=classification_report(test_senti,rf_tfidf_predict,target_names=['Positive','Negative'])\n",
    "print(rf_tfidf_report)"
   ]
  },
  {
   "cell_type": "code",
   "execution_count": 44,
   "id": "7455501e-87fa-43dc-8631-921717149eda",
   "metadata": {},
   "outputs": [
    {
     "name": "stdout",
     "output_type": "stream",
     "text": [
      "0.8906266900530001\n",
      "0.9013490063048378\n"
     ]
    }
   ],
   "source": [
    "cv_rf_prediction = rf_classifier.predict_proba(cv_test_reviews)[:, 1]\n",
    "cv_rf_auc_roc_score = roc_auc_score(test_senti,cv_rf_prediction)\n",
    "print(cv_rf_auc_roc_score)\n",
    "tf_rf_prediction = rf_classifier.predict_proba(tf_test_reviews)[:, 1]\n",
    "tf_rf_auc_roc_score = roc_auc_score(test_senti,tf_rf_prediction)\n",
    "print(tf_rf_auc_roc_score)"
   ]
  },
  {
   "cell_type": "code",
   "execution_count": null,
   "id": "4a02b378-8cd4-4fe7-a8c1-3c1af7362839",
   "metadata": {},
   "outputs": [],
   "source": []
  }
 ],
 "metadata": {
  "kernelspec": {
   "display_name": "Python 3 (ipykernel)",
   "language": "python",
   "name": "python3"
  },
  "language_info": {
   "codemirror_mode": {
    "name": "ipython",
    "version": 3
   },
   "file_extension": ".py",
   "mimetype": "text/x-python",
   "name": "python",
   "nbconvert_exporter": "python",
   "pygments_lexer": "ipython3",
   "version": "3.11.7"
  }
 },
 "nbformat": 4,
 "nbformat_minor": 5
}
