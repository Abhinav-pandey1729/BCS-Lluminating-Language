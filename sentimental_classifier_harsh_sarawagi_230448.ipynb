{
 "cells": [
  {
   "cell_type": "code",
   "execution_count": 7,
   "metadata": {},
   "outputs": [],
   "source": [
    "import numpy as np\n",
    "import pandas as pd"
   ]
  },
  {
   "cell_type": "markdown",
   "metadata": {},
   "source": [
    "EDA"
   ]
  },
  {
   "cell_type": "code",
   "execution_count": 8,
   "metadata": {},
   "outputs": [
    {
     "data": {
      "text/html": [
       "<div>\n",
       "<style scoped>\n",
       "    .dataframe tbody tr th:only-of-type {\n",
       "        vertical-align: middle;\n",
       "    }\n",
       "\n",
       "    .dataframe tbody tr th {\n",
       "        vertical-align: top;\n",
       "    }\n",
       "\n",
       "    .dataframe thead th {\n",
       "        text-align: right;\n",
       "    }\n",
       "</style>\n",
       "<table border=\"1\" class=\"dataframe\">\n",
       "  <thead>\n",
       "    <tr style=\"text-align: right;\">\n",
       "      <th></th>\n",
       "      <th>text</th>\n",
       "      <th>label</th>\n",
       "    </tr>\n",
       "  </thead>\n",
       "  <tbody>\n",
       "    <tr>\n",
       "      <th>0</th>\n",
       "      <td>I grew up (b. 1965) watching and loving the Th...</td>\n",
       "      <td>0</td>\n",
       "    </tr>\n",
       "    <tr>\n",
       "      <th>1</th>\n",
       "      <td>When I put this movie in my DVD player, and sa...</td>\n",
       "      <td>0</td>\n",
       "    </tr>\n",
       "    <tr>\n",
       "      <th>2</th>\n",
       "      <td>Why do people who do not know what a particula...</td>\n",
       "      <td>0</td>\n",
       "    </tr>\n",
       "    <tr>\n",
       "      <th>3</th>\n",
       "      <td>Even though I have great interest in Biblical ...</td>\n",
       "      <td>0</td>\n",
       "    </tr>\n",
       "    <tr>\n",
       "      <th>4</th>\n",
       "      <td>Im a die hard Dads Army fan and nothing will e...</td>\n",
       "      <td>1</td>\n",
       "    </tr>\n",
       "    <tr>\n",
       "      <th>...</th>\n",
       "      <td>...</td>\n",
       "      <td>...</td>\n",
       "    </tr>\n",
       "    <tr>\n",
       "      <th>39995</th>\n",
       "      <td>\"Western Union\" is something of a forgotten cl...</td>\n",
       "      <td>1</td>\n",
       "    </tr>\n",
       "    <tr>\n",
       "      <th>39996</th>\n",
       "      <td>This movie is an incredible piece of work. It ...</td>\n",
       "      <td>1</td>\n",
       "    </tr>\n",
       "    <tr>\n",
       "      <th>39997</th>\n",
       "      <td>My wife and I watched this movie because we pl...</td>\n",
       "      <td>0</td>\n",
       "    </tr>\n",
       "    <tr>\n",
       "      <th>39998</th>\n",
       "      <td>When I first watched Flatliners, I was amazed....</td>\n",
       "      <td>1</td>\n",
       "    </tr>\n",
       "    <tr>\n",
       "      <th>39999</th>\n",
       "      <td>Why would this film be so good, but only gross...</td>\n",
       "      <td>1</td>\n",
       "    </tr>\n",
       "  </tbody>\n",
       "</table>\n",
       "<p>40000 rows × 2 columns</p>\n",
       "</div>"
      ],
      "text/plain": [
       "                                                    text  label\n",
       "0      I grew up (b. 1965) watching and loving the Th...      0\n",
       "1      When I put this movie in my DVD player, and sa...      0\n",
       "2      Why do people who do not know what a particula...      0\n",
       "3      Even though I have great interest in Biblical ...      0\n",
       "4      Im a die hard Dads Army fan and nothing will e...      1\n",
       "...                                                  ...    ...\n",
       "39995  \"Western Union\" is something of a forgotten cl...      1\n",
       "39996  This movie is an incredible piece of work. It ...      1\n",
       "39997  My wife and I watched this movie because we pl...      0\n",
       "39998  When I first watched Flatliners, I was amazed....      1\n",
       "39999  Why would this film be so good, but only gross...      1\n",
       "\n",
       "[40000 rows x 2 columns]"
      ]
     },
     "execution_count": 8,
     "metadata": {},
     "output_type": "execute_result"
    }
   ],
   "source": [
    "data=pd.read_csv(\"movie.csv\")\n",
    "data"
   ]
  },
  {
   "cell_type": "code",
   "execution_count": 9,
   "metadata": {},
   "outputs": [
    {
     "data": {
      "text/plain": [
       "(40000, 2)"
      ]
     },
     "execution_count": 9,
     "metadata": {},
     "output_type": "execute_result"
    }
   ],
   "source": [
    "data.shape"
   ]
  },
  {
   "cell_type": "code",
   "execution_count": 10,
   "metadata": {},
   "outputs": [
    {
     "data": {
      "text/plain": [
       "39723"
      ]
     },
     "execution_count": 10,
     "metadata": {},
     "output_type": "execute_result"
    }
   ],
   "source": [
    "data['text'].nunique()"
   ]
  },
  {
   "cell_type": "code",
   "execution_count": 11,
   "metadata": {},
   "outputs": [],
   "source": [
    "data=data.drop_duplicates()"
   ]
  },
  {
   "cell_type": "code",
   "execution_count": 12,
   "metadata": {},
   "outputs": [
    {
     "data": {
      "text/plain": [
       "text     0\n",
       "label    0\n",
       "dtype: int64"
      ]
     },
     "execution_count": 12,
     "metadata": {},
     "output_type": "execute_result"
    }
   ],
   "source": [
    "data.isnull().sum()"
   ]
  },
  {
   "cell_type": "code",
   "execution_count": 13,
   "metadata": {},
   "outputs": [
    {
     "data": {
      "text/plain": [
       "label\n",
       "1    19908\n",
       "0    19815\n",
       "Name: count, dtype: int64"
      ]
     },
     "execution_count": 13,
     "metadata": {},
     "output_type": "execute_result"
    }
   ],
   "source": [
    "data['label'].value_counts()"
   ]
  },
  {
   "cell_type": "code",
   "execution_count": 14,
   "metadata": {},
   "outputs": [],
   "source": [
    "import matplotlib.pyplot as plt\n",
    "import seaborn as sns\n",
    "%matplotlib inline"
   ]
  },
  {
   "cell_type": "code",
   "execution_count": 15,
   "metadata": {},
   "outputs": [
    {
     "name": "stderr",
     "output_type": "stream",
     "text": [
      "C:\\Users\\HARSH SARAWAGI\\AppData\\Local\\Temp\\ipykernel_20264\\4033236212.py:2: SettingWithCopyWarning: \n",
      "A value is trying to be set on a copy of a slice from a DataFrame.\n",
      "Try using .loc[row_indexer,col_indexer] = value instead\n",
      "\n",
      "See the caveats in the documentation: https://pandas.pydata.org/pandas-docs/stable/user_guide/indexing.html#returning-a-view-versus-a-copy\n",
      "  data['length']=new_col#add length column\n"
     ]
    },
    {
     "data": {
      "text/html": [
       "<div>\n",
       "<style scoped>\n",
       "    .dataframe tbody tr th:only-of-type {\n",
       "        vertical-align: middle;\n",
       "    }\n",
       "\n",
       "    .dataframe tbody tr th {\n",
       "        vertical-align: top;\n",
       "    }\n",
       "\n",
       "    .dataframe thead th {\n",
       "        text-align: right;\n",
       "    }\n",
       "</style>\n",
       "<table border=\"1\" class=\"dataframe\">\n",
       "  <thead>\n",
       "    <tr style=\"text-align: right;\">\n",
       "      <th></th>\n",
       "      <th>text</th>\n",
       "      <th>label</th>\n",
       "      <th>length</th>\n",
       "    </tr>\n",
       "  </thead>\n",
       "  <tbody>\n",
       "    <tr>\n",
       "      <th>0</th>\n",
       "      <td>I grew up (b. 1965) watching and loving the Th...</td>\n",
       "      <td>0</td>\n",
       "      <td>874</td>\n",
       "    </tr>\n",
       "    <tr>\n",
       "      <th>1</th>\n",
       "      <td>When I put this movie in my DVD player, and sa...</td>\n",
       "      <td>0</td>\n",
       "      <td>1811</td>\n",
       "    </tr>\n",
       "    <tr>\n",
       "      <th>2</th>\n",
       "      <td>Why do people who do not know what a particula...</td>\n",
       "      <td>0</td>\n",
       "      <td>983</td>\n",
       "    </tr>\n",
       "    <tr>\n",
       "      <th>3</th>\n",
       "      <td>Even though I have great interest in Biblical ...</td>\n",
       "      <td>0</td>\n",
       "      <td>351</td>\n",
       "    </tr>\n",
       "    <tr>\n",
       "      <th>4</th>\n",
       "      <td>Im a die hard Dads Army fan and nothing will e...</td>\n",
       "      <td>1</td>\n",
       "      <td>983</td>\n",
       "    </tr>\n",
       "    <tr>\n",
       "      <th>...</th>\n",
       "      <td>...</td>\n",
       "      <td>...</td>\n",
       "      <td>...</td>\n",
       "    </tr>\n",
       "    <tr>\n",
       "      <th>39995</th>\n",
       "      <td>\"Western Union\" is something of a forgotten cl...</td>\n",
       "      <td>1</td>\n",
       "      <td>3111</td>\n",
       "    </tr>\n",
       "    <tr>\n",
       "      <th>39996</th>\n",
       "      <td>This movie is an incredible piece of work. It ...</td>\n",
       "      <td>1</td>\n",
       "      <td>291</td>\n",
       "    </tr>\n",
       "    <tr>\n",
       "      <th>39997</th>\n",
       "      <td>My wife and I watched this movie because we pl...</td>\n",
       "      <td>0</td>\n",
       "      <td>1092</td>\n",
       "    </tr>\n",
       "    <tr>\n",
       "      <th>39998</th>\n",
       "      <td>When I first watched Flatliners, I was amazed....</td>\n",
       "      <td>1</td>\n",
       "      <td>1045</td>\n",
       "    </tr>\n",
       "    <tr>\n",
       "      <th>39999</th>\n",
       "      <td>Why would this film be so good, but only gross...</td>\n",
       "      <td>1</td>\n",
       "      <td>727</td>\n",
       "    </tr>\n",
       "  </tbody>\n",
       "</table>\n",
       "<p>39723 rows × 3 columns</p>\n",
       "</div>"
      ],
      "text/plain": [
       "                                                    text  label  length\n",
       "0      I grew up (b. 1965) watching and loving the Th...      0     874\n",
       "1      When I put this movie in my DVD player, and sa...      0    1811\n",
       "2      Why do people who do not know what a particula...      0     983\n",
       "3      Even though I have great interest in Biblical ...      0     351\n",
       "4      Im a die hard Dads Army fan and nothing will e...      1     983\n",
       "...                                                  ...    ...     ...\n",
       "39995  \"Western Union\" is something of a forgotten cl...      1    3111\n",
       "39996  This movie is an incredible piece of work. It ...      1     291\n",
       "39997  My wife and I watched this movie because we pl...      0    1092\n",
       "39998  When I first watched Flatliners, I was amazed....      1    1045\n",
       "39999  Why would this film be so good, but only gross...      1     727\n",
       "\n",
       "[39723 rows x 3 columns]"
      ]
     },
     "execution_count": 15,
     "metadata": {},
     "output_type": "execute_result"
    }
   ],
   "source": [
    "new_col=data['text'].str.len()#create a series of reviews list\n",
    "data['length']=new_col#add length column\n",
    "data\n"
   ]
  },
  {
   "cell_type": "code",
   "execution_count": 16,
   "metadata": {},
   "outputs": [
    {
     "data": {
      "text/plain": [
       "<matplotlib.collections.PathCollection at 0x2079fc31d90>"
      ]
     },
     "execution_count": 16,
     "metadata": {},
     "output_type": "execute_result"
    },
    {
     "data": {
      "image/png": "[encoded data removed]",
      "text/plain": [
       "<Figure size 640x480 with 1 Axes>"
      ]
     },
     "metadata": {},
     "output_type": "display_data"
    }
   ],
   "source": [
    "plt.scatter(data['length'],data['label'])"
   ]
  },
  {
   "cell_type": "code",
   "execution_count": 17,
   "metadata": {},
   "outputs": [
    {
     "data": {
      "image/png": "[encoded data removed]",
      "text/plain": [
       "<Figure size 640x480 with 1 Axes>"
      ]
     },
     "metadata": {},
     "output_type": "display_data"
    }
   ],
   "source": [
    "\n",
    "plt.hist(data[data['label']==1]['length'],label='positive reviews',alpha=0.8)\n",
    "plt.hist(data[data['label']==0]['length'],label='negative reviews',alpha=0.8)\n",
    "plt.legend()\n",
    "plt.xlabel='text length'"
   ]
  },
  {
   "cell_type": "markdown",
   "metadata": {},
   "source": [
    "DATA Preprocessing"
   ]
  },
  {
   "cell_type": "code",
   "execution_count": 18,
   "metadata": {},
   "outputs": [],
   "source": [
    "import nltk\n",
    "from nltk.corpus import stopwords"
   ]
  },
  {
   "cell_type": "code",
   "execution_count": 19,
   "metadata": {},
   "outputs": [],
   "source": [
    "stop_words=set(stopwords.words('english'))\n"
   ]
  },
  {
   "cell_type": "code",
   "execution_count": 20,
   "metadata": {},
   "outputs": [
    {
     "name": "stderr",
     "output_type": "stream",
     "text": [
      "C:\\Users\\HARSH SARAWAGI\\AppData\\Local\\Temp\\ipykernel_20264\\1597289402.py:22: SettingWithCopyWarning: \n",
      "A value is trying to be set on a copy of a slice from a DataFrame.\n",
      "Try using .loc[row_indexer,col_indexer] = value instead\n",
      "\n",
      "See the caveats in the documentation: https://pandas.pydata.org/pandas-docs/stable/user_guide/indexing.html#returning-a-view-versus-a-copy\n",
      "  data['text']=data_new\n"
     ]
    },
    {
     "data": {
      "text/html": [
       "<div>\n",
       "<style scoped>\n",
       "    .dataframe tbody tr th:only-of-type {\n",
       "        vertical-align: middle;\n",
       "    }\n",
       "\n",
       "    .dataframe tbody tr th {\n",
       "        vertical-align: top;\n",
       "    }\n",
       "\n",
       "    .dataframe thead th {\n",
       "        text-align: right;\n",
       "    }\n",
       "</style>\n",
       "<table border=\"1\" class=\"dataframe\">\n",
       "  <thead>\n",
       "    <tr style=\"text-align: right;\">\n",
       "      <th></th>\n",
       "      <th>text</th>\n",
       "      <th>label</th>\n",
       "      <th>length</th>\n",
       "    </tr>\n",
       "  </thead>\n",
       "  <tbody>\n",
       "    <tr>\n",
       "      <th>0</th>\n",
       "      <td>grew b watching loving thunderbirds mates scho...</td>\n",
       "      <td>0</td>\n",
       "      <td>874</td>\n",
       "    </tr>\n",
       "    <tr>\n",
       "      <th>1</th>\n",
       "      <td>put movie dvd player sat coke chips expectatio...</td>\n",
       "      <td>0</td>\n",
       "      <td>1811</td>\n",
       "    </tr>\n",
       "    <tr>\n",
       "      <th>2</th>\n",
       "      <td>people know particular time past like feel nee...</td>\n",
       "      <td>0</td>\n",
       "      <td>983</td>\n",
       "    </tr>\n",
       "    <tr>\n",
       "      <th>3</th>\n",
       "      <td>even though great interest biblical movies bor...</td>\n",
       "      <td>0</td>\n",
       "      <td>351</td>\n",
       "    </tr>\n",
       "    <tr>\n",
       "      <th>4</th>\n",
       "      <td>im die hard dads army fan nothing ever change ...</td>\n",
       "      <td>1</td>\n",
       "      <td>983</td>\n",
       "    </tr>\n",
       "    <tr>\n",
       "      <th>...</th>\n",
       "      <td>...</td>\n",
       "      <td>...</td>\n",
       "      <td>...</td>\n",
       "    </tr>\n",
       "    <tr>\n",
       "      <th>39995</th>\n",
       "      <td>western union something forgotten classic west...</td>\n",
       "      <td>1</td>\n",
       "      <td>3111</td>\n",
       "    </tr>\n",
       "    <tr>\n",
       "      <th>39996</th>\n",
       "      <td>movie incredible piece work explores every noo...</td>\n",
       "      <td>1</td>\n",
       "      <td>291</td>\n",
       "    </tr>\n",
       "    <tr>\n",
       "      <th>39997</th>\n",
       "      <td>wife watched movie plan visit sicily stromboli...</td>\n",
       "      <td>0</td>\n",
       "      <td>1092</td>\n",
       "    </tr>\n",
       "    <tr>\n",
       "      <th>39998</th>\n",
       "      <td>first watched flatliners amazed necessary feat...</td>\n",
       "      <td>1</td>\n",
       "      <td>1045</td>\n",
       "    </tr>\n",
       "    <tr>\n",
       "      <th>39999</th>\n",
       "      <td>would film good gross estimated award nominati...</td>\n",
       "      <td>1</td>\n",
       "      <td>727</td>\n",
       "    </tr>\n",
       "  </tbody>\n",
       "</table>\n",
       "<p>39723 rows × 3 columns</p>\n",
       "</div>"
      ],
      "text/plain": [
       "                                                    text  label  length\n",
       "0      grew b watching loving thunderbirds mates scho...      0     874\n",
       "1      put movie dvd player sat coke chips expectatio...      0    1811\n",
       "2      people know particular time past like feel nee...      0     983\n",
       "3      even though great interest biblical movies bor...      0     351\n",
       "4      im die hard dads army fan nothing ever change ...      1     983\n",
       "...                                                  ...    ...     ...\n",
       "39995  western union something forgotten classic west...      1    3111\n",
       "39996  movie incredible piece work explores every noo...      1     291\n",
       "39997  wife watched movie plan visit sicily stromboli...      0    1092\n",
       "39998  first watched flatliners amazed necessary feat...      1    1045\n",
       "39999  would film good gross estimated award nominati...      1     727\n",
       "\n",
       "[39723 rows x 3 columns]"
      ]
     },
     "execution_count": 20,
     "metadata": {},
     "output_type": "execute_result"
    }
   ],
   "source": [
    "import re\n",
    "def filtering(x):\n",
    "    #print (x)\n",
    "    pattern =r'[^a-zA-Z\\s]'\n",
    "    x=re.sub(pattern,'',x)\n",
    "    \n",
    "    #print(y)\n",
    "    #print (x)\n",
    "\n",
    "    str_lst=str(x).lower().split()# converts to lower case and make list of words\n",
    "    # print(str_lst)\n",
    "    str_lst_new=[]\n",
    "    for word in str_lst:\n",
    "        if word not in stop_words:\n",
    "            str_lst_new.append(word)\n",
    "    #print(str_lst_new)\n",
    "    \n",
    "    x=' '.join(str(ele) for ele in str_lst_new)\n",
    "    #print(x)\n",
    "    return x\n",
    "data_new=data['text'].apply(lambda x: filtering(x))\n",
    "data['text']=data_new\n",
    "data"
   ]
  },
  {
   "cell_type": "code",
   "execution_count": 21,
   "metadata": {},
   "outputs": [
    {
     "data": {
      "text/plain": [
       "0        [grew, b, watching, loving, thunderbirds, mate...\n",
       "1        [put, movie, dvd, player, sat, coke, chips, ex...\n",
       "2        [people, know, particular, time, past, like, f...\n",
       "3        [even, though, great, interest, biblical, movi...\n",
       "4        [im, die, hard, dads, army, fan, nothing, ever...\n",
       "                               ...                        \n",
       "39995    [western, union, something, forgotten, classic...\n",
       "39996    [movie, incredible, piece, work, explores, eve...\n",
       "39997    [wife, watched, movie, plan, visit, sicily, st...\n",
       "39998    [first, watched, flatliners, amazed, necessary...\n",
       "39999    [would, film, good, gross, estimated, award, n...\n",
       "Name: text, Length: 39723, dtype: object"
      ]
     },
     "execution_count": 21,
     "metadata": {},
     "output_type": "execute_result"
    }
   ],
   "source": [
    "x=data['text'].apply(lambda x: nltk.word_tokenize(x))\n",
    "x"
   ]
  },
  {
   "cell_type": "code",
   "execution_count": 22,
   "metadata": {},
   "outputs": [
    {
     "data": {
      "text/plain": [
       "0        [grew, b, watch, love, thunderbird, mate, scho...\n",
       "1        [put, movi, dvd, player, sat, coke, chip, expe...\n",
       "2        [peopl, know, particular, time, past, like, fe...\n",
       "3        [even, though, great, interest, biblic, movi, ...\n",
       "4        [im, die, hard, dad, armi, fan, noth, ever, ch...\n",
       "                               ...                        \n",
       "39995    [western, union, someth, forgotten, classic, w...\n",
       "39996    [movi, incred, piec, work, explor, everi, nook...\n",
       "39997    [wife, watch, movi, plan, visit, sicili, strom...\n",
       "39998    [first, watch, flatlin, amaz, necessari, featu...\n",
       "39999    [would, film, good, gross, estim, award, nomin...\n",
       "Name: text, Length: 39723, dtype: object"
      ]
     },
     "execution_count": 22,
     "metadata": {},
     "output_type": "execute_result"
    }
   ],
   "source": [
    "sm=nltk.PorterStemmer()\n",
    "def stemmer(x):\n",
    "    text=[sm.stem(word) for word in x]\n",
    "    return text\n",
    "x=x.apply(lambda x: stemmer(x))\n",
    "x"
   ]
  },
  {
   "cell_type": "code",
   "execution_count": 23,
   "metadata": {},
   "outputs": [
    {
     "data": {
      "text/plain": [
       "0        grew b watch love thunderbird mate school watc...\n",
       "1        put movi dvd player sat coke chip expect hope ...\n",
       "2        peopl know particular time past like feel need...\n",
       "3        even though great interest biblic movi bore de...\n",
       "4        im die hard dad armi fan noth ever chang got t...\n",
       "                               ...                        \n",
       "39995    western union someth forgotten classic western...\n",
       "39996    movi incred piec work explor everi nook cranni...\n",
       "39997    wife watch movi plan visit sicili stromboli so...\n",
       "39998    first watch flatlin amaz necessari featur good...\n",
       "39999    would film good gross estim award nomin john t...\n",
       "Name: text, Length: 39723, dtype: object"
      ]
     },
     "execution_count": 23,
     "metadata": {},
     "output_type": "execute_result"
    }
   ],
   "source": [
    "def lemmatizer(x):\n",
    "    str_new=[]\n",
    "    for i in range(0,len(x)):\n",
    "        #print(x[i])\n",
    "        str_new.append(nltk.stem.WordNetLemmatizer().lemmatize(x[i]))\n",
    "    #print(str_new)\n",
    "    return ''.join(str(ele+' ') for ele in str_new)\n",
    "x=x.apply(lambda x: lemmatizer(x))\n",
    "x\n"
   ]
  },
  {
   "cell_type": "code",
   "execution_count": 24,
   "metadata": {},
   "outputs": [],
   "source": [
    "# x_test=x_test.apply(lambda x: nltk.word_tokenize(x))\n",
    "# x_test\n",
    "# def lemmatizer(x):\n",
    "#     str_new=[]\n",
    "#     for i in range(0,len(x)):\n",
    "#         #print(x[i])\n",
    "#         str_new.append(nltk.stem.WordNetLemmatizer().lemmatize(x[i]))\n",
    "#     #print(str_new)\n",
    "#     return ''.join(str(ele+' ') for ele in str_new)\n",
    "# x_test=x_test.apply(lambda x: lemmatizer(x))\n",
    "# x_test"
   ]
  },
  {
   "cell_type": "code",
   "execution_count": 25,
   "metadata": {},
   "outputs": [
    {
     "name": "stdout",
     "output_type": "stream",
     "text": [
      "(31778,)\n",
      "(7945,)\n"
     ]
    }
   ],
   "source": [
    "from sklearn.model_selection import train_test_split\n",
    "x_train,x_test,y_train,y_test=train_test_split(data['text'],data['label'],random_state=101,test_size=0.2)\n",
    "print(x_train.shape)\n",
    "print(x_test.shape)"
   ]
  },
  {
   "cell_type": "markdown",
   "metadata": {},
   "source": [
    "Feature Extraction"
   ]
  },
  {
   "cell_type": "code",
   "execution_count": 26,
   "metadata": {},
   "outputs": [],
   "source": [
    "#TF_IDF_vectorizer\n",
    "from sklearn.feature_extraction.text import TfidfVectorizer\n",
    "vect=TfidfVectorizer().fit(x_train)\n",
    "#vect_test=TfidfVectorizer().fit(x_test)\n",
    "\n",
    "#print(vect_test)\n",
    "#print(vect_train)\n",
    "vectorised_x_train=vect.transform(x_train)\n",
    "vectorised_x_test=vect.transform(x_test)\n"
   ]
  },
  {
   "cell_type": "code",
   "execution_count": 27,
   "metadata": {},
   "outputs": [],
   "source": [
    "# from sklearn.preprocessing import OneHotEncoder\n",
    "# one_hot=OneHotEncoder()\n",
    "# one_hot_encoded=one_hot.fit(x_train)\n",
    "# one_hot_x_train=one_hot_encoded.transform(x_train)\n",
    "# one_hot_x_test=one_hot_encoded.transform(x_test)"
   ]
  },
  {
   "cell_type": "code",
   "execution_count": 28,
   "metadata": {},
   "outputs": [],
   "source": [
    "#count vectorizer\n",
    "from sklearn.feature_extraction.text import CountVectorizer\n",
    "cv=CountVectorizer()\n",
    "cv_encoder=cv.fit(x_train)\n",
    "cv_x_train=cv_encoder.transform(x_train)\n",
    "cv_x_test=cv_encoder.transform(x_test)"
   ]
  },
  {
   "cell_type": "code",
   "execution_count": 29,
   "metadata": {},
   "outputs": [],
   "source": [
    "# !pip install gensim\n",
    "# from gensim.models import word2vec\n",
    "# showing some error in installation of gensim module\n"
   ]
  },
  {
   "cell_type": "markdown",
   "metadata": {},
   "source": [
    "Model Building"
   ]
  },
  {
   "cell_type": "code",
   "execution_count": 36,
   "metadata": {},
   "outputs": [
    {
     "name": "stdout",
     "output_type": "stream",
     "text": [
      "Accuracy using Logistic Regression: 89.28 %\n",
      "roc_auc_score using Logistic Regression: 0.89\n",
      "              precision    recall  f1-score   support\n",
      "\n",
      "           0       0.88      0.90      0.89      3808\n",
      "           1       0.91      0.88      0.90      4137\n",
      "\n",
      "    accuracy                           0.89      7945\n",
      "   macro avg       0.89      0.89      0.89      7945\n",
      "weighted avg       0.89      0.89      0.89      7945\n",
      "\n"
     ]
    },
    {
     "ename": "TypeError",
     "evalue": "'str' object is not callable",
     "output_type": "error",
     "traceback": [
      "\u001b[1;31m---------------------------------------------------------------------------\u001b[0m",
      "\u001b[1;31mTypeError\u001b[0m                                 Traceback (most recent call last)",
      "Cell \u001b[1;32mIn[36], line 12\u001b[0m\n\u001b[0;32m     10\u001b[0m sns\u001b[38;5;241m.\u001b[39mheatmap(confusion_matrix(y_predict,y_test),annot\u001b[38;5;241m=\u001b[39m\u001b[38;5;28;01mTrue\u001b[39;00m)\n\u001b[0;32m     11\u001b[0m plt\u001b[38;5;241m.\u001b[39mtitle(\u001b[38;5;124m\"\u001b[39m\u001b[38;5;124mconfusion matrix\u001b[39m\u001b[38;5;124m\"\u001b[39m)\n\u001b[1;32m---> 12\u001b[0m \u001b[43mplt\u001b[49m\u001b[38;5;241;43m.\u001b[39;49m\u001b[43mxlabel\u001b[49m\u001b[43m(\u001b[49m\u001b[38;5;124;43m\"\u001b[39;49m\u001b[38;5;124;43mpredicted_values\u001b[39;49m\u001b[38;5;124;43m\"\u001b[39;49m\u001b[43m)\u001b[49m\n\u001b[0;32m     13\u001b[0m plt\u001b[38;5;241m.\u001b[39mylabel(\u001b[38;5;124m\"\u001b[39m\u001b[38;5;124mtrue vaues\u001b[39m\u001b[38;5;124m\"\u001b[39m)\n\u001b[0;32m     14\u001b[0m plt\u001b[38;5;241m.\u001b[39mshow()\n",
      "\u001b[1;31mTypeError\u001b[0m: 'str' object is not callable"
     ]
    },
    {
     "data": {
      "image/png": "[encoded data removed]",
      "text/plain": [
       "<Figure size 640x480 with 2 Axes>"
      ]
     },
     "metadata": {},
     "output_type": "display_data"
    }
   ],
   "source": [
    "from sklearn.linear_model import LogisticRegression\n",
    "from sklearn.metrics import accuracy_score,roc_auc_score,f1_score,confusion_matrix,classification_report\n",
    "\n",
    "model=LogisticRegression().fit(vectorised_x_train,y_train)\n",
    "y_predict=model.predict(vectorised_x_test)\n",
    "print(f\"Accuracy using Logistic Regression: {accuracy_score(y_predict,y_test)*100:.2f} %\")\n",
    "print(f\"roc_auc_score using Logistic Regression: {roc_auc_score(y_predict,y_test):.2f}\")\n",
    "print(classification_report(y_predict,y_test))\n",
    "#print(confusion_matrix(y_predict,y_test))\n",
    "sns.heatmap(confusion_matrix(y_predict,y_test),annot=True)\n",
    "plt.title(\"confusion matrix\")\n",
    "plt.xlabel(\"predicted_values\")\n",
    "plt.ylabel(\"true vaues\")\n",
    "plt.show()"
   ]
  },
  {
   "cell_type": "code",
   "execution_count": 37,
   "metadata": {},
   "outputs": [
    {
     "data": {
      "text/plain": [
       "0.8961611076148521"
      ]
     },
     "execution_count": 37,
     "metadata": {},
     "output_type": "execute_result"
    }
   ],
   "source": [
    "from sklearn import svm\n",
    "\n",
    "model=svm.SVC(kernel='linear').fit(vectorised_x_train,y_train)\n",
    "y_predict=model.predict(vectorised_x_test)\n",
    "print(f\"Accuracy using KNN: {accuracy_score(y_predict,y_test)*100:.2f} %\")\n",
    "print(f\"roc_auc_score using KNN: {roc_auc_score(y_predict,y_test):.2f}\")\n",
    "print(classification_report(y_predict,y_test))\n",
    "#print(confusion_matrix(y_predict,y_test))\n",
    "sns.heatmap(confusion_matrix(y_predict,y_test),annot=True)\n",
    "plt.title(\"confusion matrix\")\n",
    "plt.xlabel(\"predicted value\")\n",
    "plt.ylabel(\"true vaues\")\n",
    "plt.show()\n",
    "\n"
   ]
  },
  {
   "cell_type": "code",
   "execution_count": 38,
   "metadata": {},
   "outputs": [
    {
     "name": "stdout",
     "output_type": "stream",
     "text": [
      "Accuracy using KNN: 76.32 %\n",
      "roc_auc_score using KNN: 0.77\n",
      "              precision    recall  f1-score   support\n",
      "\n",
      "           0       0.69      0.80      0.74      3367\n",
      "           1       0.84      0.73      0.78      4578\n",
      "\n",
      "    accuracy                           0.76      7945\n",
      "   macro avg       0.76      0.77      0.76      7945\n",
      "weighted avg       0.77      0.76      0.76      7945\n",
      "\n"
     ]
    },
    {
     "ename": "TypeError",
     "evalue": "'str' object is not callable",
     "output_type": "error",
     "traceback": [
      "\u001b[1;31m---------------------------------------------------------------------------\u001b[0m",
      "\u001b[1;31mTypeError\u001b[0m                                 Traceback (most recent call last)",
      "Cell \u001b[1;32mIn[38], line 12\u001b[0m\n\u001b[0;32m     10\u001b[0m sns\u001b[38;5;241m.\u001b[39mheatmap(confusion_matrix(y_predict,y_test),annot\u001b[38;5;241m=\u001b[39m\u001b[38;5;28;01mTrue\u001b[39;00m)\n\u001b[0;32m     11\u001b[0m plt\u001b[38;5;241m.\u001b[39mtitle(\u001b[38;5;124m\"\u001b[39m\u001b[38;5;124mconfusion matrix\u001b[39m\u001b[38;5;124m\"\u001b[39m)\n\u001b[1;32m---> 12\u001b[0m \u001b[43mplt\u001b[49m\u001b[38;5;241;43m.\u001b[39;49m\u001b[43mxlabel\u001b[49m\u001b[43m(\u001b[49m\u001b[38;5;124;43m\"\u001b[39;49m\u001b[38;5;124;43mpredicted value\u001b[39;49m\u001b[38;5;124;43m\"\u001b[39;49m\u001b[43m)\u001b[49m\n\u001b[0;32m     13\u001b[0m plt\u001b[38;5;241m.\u001b[39mylabel(\u001b[38;5;124m\"\u001b[39m\u001b[38;5;124mtrue vaues\u001b[39m\u001b[38;5;124m\"\u001b[39m)\n\u001b[0;32m     14\u001b[0m plt\u001b[38;5;241m.\u001b[39mshow()\n",
      "\u001b[1;31mTypeError\u001b[0m: 'str' object is not callable"
     ]
    },
    {
     "data": {
      "image/png": "[encoded data removed]",
      "text/plain": [
       "<Figure size 640x480 with 2 Axes>"
      ]
     },
     "metadata": {},
     "output_type": "display_data"
    }
   ],
   "source": [
    "from sklearn import neighbors\n",
    "\n",
    "knn=neighbors.KNeighborsClassifier(n_neighbors=3)\n",
    "knn_model=knn.fit(vectorised_x_train,y_train)\n",
    "y_predict=knn_model.predict(vectorised_x_test)\n",
    "print(f\"Accuracy using KNN: {accuracy_score(y_predict,y_test)*100:.2f} %\")\n",
    "print(f\"roc_auc_score using KNN: {roc_auc_score(y_predict,y_test):.2f}\")\n",
    "print(classification_report(y_predict,y_test))\n",
    "#print(confusion_matrix(y_predict,y_test))\n",
    "sns.heatmap(confusion_matrix(y_predict,y_test),annot=True)\n",
    "plt.title(\"confusion matrix\")\n",
    "plt.xlabel(\"predicted value\")\n",
    "plt.ylabel(\"true vaues\")\n",
    "plt.show()\n"
   ]
  },
  {
   "cell_type": "code",
   "execution_count": 39,
   "metadata": {},
   "outputs": [
    {
     "name": "stdout",
     "output_type": "stream",
     "text": [
      "Accuracy using RandomForest: 84.67 %\n",
      "roc_auc_score using RandomForest: 0.85\n",
      "              precision    recall  f1-score   support\n",
      "\n",
      "           0       0.85      0.84      0.85      4008\n",
      "           1       0.84      0.85      0.85      3937\n",
      "\n",
      "    accuracy                           0.85      7945\n",
      "   macro avg       0.85      0.85      0.85      7945\n",
      "weighted avg       0.85      0.85      0.85      7945\n",
      "\n"
     ]
    },
    {
     "ename": "TypeError",
     "evalue": "'str' object is not callable",
     "output_type": "error",
     "traceback": [
      "\u001b[1;31m---------------------------------------------------------------------------\u001b[0m",
      "\u001b[1;31mTypeError\u001b[0m                                 Traceback (most recent call last)",
      "Cell \u001b[1;32mIn[39], line 10\u001b[0m\n\u001b[0;32m      8\u001b[0m sns\u001b[38;5;241m.\u001b[39mheatmap(confusion_matrix(y_predict,y_test),annot\u001b[38;5;241m=\u001b[39m\u001b[38;5;28;01mTrue\u001b[39;00m)\n\u001b[0;32m      9\u001b[0m plt\u001b[38;5;241m.\u001b[39mtitle(\u001b[38;5;124m\"\u001b[39m\u001b[38;5;124mconfusion matrix\u001b[39m\u001b[38;5;124m\"\u001b[39m)\n\u001b[1;32m---> 10\u001b[0m \u001b[43mplt\u001b[49m\u001b[38;5;241;43m.\u001b[39;49m\u001b[43mxlabel\u001b[49m\u001b[43m(\u001b[49m\u001b[38;5;124;43m\"\u001b[39;49m\u001b[38;5;124;43mpredicted value\u001b[39;49m\u001b[38;5;124;43m\"\u001b[39;49m\u001b[43m)\u001b[49m\n\u001b[0;32m     11\u001b[0m plt\u001b[38;5;241m.\u001b[39mylabel(\u001b[38;5;124m\"\u001b[39m\u001b[38;5;124mtrue vaues\u001b[39m\u001b[38;5;124m\"\u001b[39m)\n\u001b[0;32m     12\u001b[0m plt\u001b[38;5;241m.\u001b[39mshow()\n",
      "\u001b[1;31mTypeError\u001b[0m: 'str' object is not callable"
     ]
    },
    {
     "data": {
      "image/png": "[encoded data removed]",
      "text/plain": [
       "<Figure size 640x480 with 2 Axes>"
      ]
     },
     "metadata": {},
     "output_type": "display_data"
    }
   ],
   "source": [
    "from sklearn.ensemble import RandomForestClassifier\n",
    "model=RandomForestClassifier().fit(vectorised_x_train,y_train)\n",
    "y_predict=model.predict(vectorised_x_test)\n",
    "print(f\"Accuracy using RandomForest: {accuracy_score(y_predict,y_test)*100:.2f} %\")\n",
    "print(f\"roc_auc_score using RandomForest: {roc_auc_score(y_predict,y_test):.2f}\")\n",
    "print(classification_report(y_predict,y_test))\n",
    "#print(confusion_matrix(y_predict,y_test))\n",
    "sns.heatmap(confusion_matrix(y_predict,y_test),annot=True)\n",
    "plt.title(\"confusion matrix\")\n",
    "plt.xlabel(\"predicted value\")\n",
    "plt.ylabel(\"true vaues\")\n",
    "plt.show()\n"
   ]
  },
  {
   "cell_type": "code",
   "execution_count": 50,
   "metadata": {},
   "outputs": [
    {
     "name": "stdout",
     "output_type": "stream",
     "text": [
      "Accuracy using RandomForest: 84.67 %\n",
      "roc_auc_score using RandomForest: 0.85\n",
      "              precision    recall  f1-score   support\n",
      "\n",
      "           0       0.85      0.84      0.85      4008\n",
      "           1       0.84      0.85      0.85      3937\n",
      "\n",
      "    accuracy                           0.85      7945\n",
      "   macro avg       0.85      0.85      0.85      7945\n",
      "weighted avg       0.85      0.85      0.85      7945\n",
      "\n"
     ]
    },
    {
     "data": {
      "image/png": "[encoded data removed]",
      "text/plain": [
       "<Figure size 640x480 with 2 Axes>"
      ]
     },
     "metadata": {},
     "output_type": "display_data"
    }
   ],
   "source": [
    "from sklearn.naive_bayes import BernoulliNB\n",
    "BNB=BernoulliNB().fit(vectorised_x_train,y_train)\n",
    "y_predicted=BNB.predict(vectorised_x_test)\n",
    "accuracy_score(y_predict,y_test)\n",
    "print(f\"Accuracy using RandomForest: {accuracy_score(y_predict,y_test)*100:.2f} %\")\n",
    "print(f\"roc_auc_score using RandomForest: {roc_auc_score(y_predict,y_test):.2f}\")\n",
    "print(classification_report(y_predict,y_test))\n",
    "#print(confusion_matrix(y_predict,y_test))\n",
    "sns.heatmap(confusion_matrix(y_predict,y_test),annot=True)\n",
    "plt.title(\"confusion matrix\")\n",
    "plt.ylabel(\"true values\")\n",
    "plt.xlabel(\"predicted value\")\n",
    "plt.show()\n"
   ]
  }
 ],
 "metadata": {
  "kernelspec": {
   "display_name": "Python 3",
   "language": "python",
   "name": "python3"
  },
  "language_info": {
   "codemirror_mode": {
    "name": "ipython",
    "version": 3
   },
   "file_extension": ".py",
   "mimetype": "text/x-python",
   "name": "python",
   "nbconvert_exporter": "python",
   "pygments_lexer": "ipython3",
   "version": "3.12.0"
  }
 },
 "nbformat": 4,
 "nbformat_minor": 2
}
